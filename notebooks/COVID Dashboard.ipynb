{
 "cells": [
  {
   "cell_type": "markdown",
   "metadata": {},
   "source": [
    "## Setup"
   ]
  },
  {
   "cell_type": "code",
   "execution_count": 1,
   "metadata": {},
   "outputs": [],
   "source": [
    "#Import Functions necessary for Dashboard\n",
    "import dash\n",
    "import datetime\n",
    "from dash import html, dcc\n",
    "import plotly.graph_objects as go\n",
    "import plotly.express as px\n",
    "import pandas as pd\n",
    "import base64"
   ]
  },
  {
   "cell_type": "markdown",
   "metadata": {},
   "source": [
    "## Data Preparation"
   ]
  },
  {
   "cell_type": "code",
   "execution_count": 2,
   "metadata": {},
   "outputs": [],
   "source": [
    "#Import Data for Dashboard from CSV File, Add population-based columns\n",
    "\n",
    "#Saved file from https://covid.ourworldindata.org/data/owid-covid-data.csv saved in Notebook folder\n",
    "data = pd.read_csv(\"owid-covid-data.csv\",sep=',')\n",
    "   \n",
    "#Add column of cases by population\n",
    "data['cases_per_pop']=data['total_cases']/data['population']\n",
    "#Add column of vaccinations by population (Fully Vaccinated)\n",
    "data['vaxd_per_pop']=data['people_fully_vaccinated']/data['population']\n",
    "#Add column of new cases (smoothed) by population\n",
    "data['new_per_pop']=data['new_cases_smoothed']/data['population']\n",
    "#Add column of total deaths per capita\n",
    "data['death_per_pop']=data['total_deaths']/data['population']\n",
    "#make separate country list for later use\n",
    "countrylist=data['location'].unique()"
   ]
  },
  {
   "cell_type": "code",
   "execution_count": 3,
   "metadata": {},
   "outputs": [],
   "source": [
    "#Create Basic blank figure to show at beginning\n",
    "fig=go.Figure()"
   ]
  },
  {
   "cell_type": "markdown",
   "metadata": {},
   "source": [
    "## Dashboard Setup"
   ]
  },
  {
   "cell_type": "code",
   "execution_count": 4,
   "metadata": {},
   "outputs": [],
   "source": [
    "#Basic Dash App Setup\n",
    "app = dash.Dash()\n",
    "app.title='COVID Dashboard'\n",
    "app._favicon = (\"covid_icon.png\")\n",
    "\n",
    "#Title Image Setup - opened in Layout\n",
    "image_filename = 'covid-title-image.png' \n",
    "encoded_image = base64.b64encode(open(image_filename, 'rb').read())"
   ]
  },
  {
   "cell_type": "code",
   "execution_count": 5,
   "metadata": {},
   "outputs": [],
   "source": [
    "#Main Layout\n",
    "app.layout = html.Div([\n",
    "    #Title Block\n",
    "    html.Div(children=[\n",
    "        html.Div([html.Img(src='data:image/png;base64,{}'.format(encoded_image.decode()))],\n",
    "                 style=dict(width='30%')), #Title Image\n",
    "        html.Div([html.H1('COVID-19 Pandemic Dashboard',\n",
    "                          style={\"text-align\": \"center\",\"offset\":1})],style=dict(width='50%')), #Title\n",
    "        html.Div([html.H4('Created By Maxwell Bald',\n",
    "                          style={\"text-align\":\"right\",\"offset\":1})],style=dict(width='20%')) #Name\n",
    "    ],style=dict(display='flex',justifyContent='center')),\n",
    "    \n",
    "    #Label Block\n",
    "        html.Div(children=[\n",
    "            html.Div([\n",
    "                html.Label(['Select Countries:'], style={'font-weight': 'bold', \"text-align\": \"center\",\"offset\":1}),\n",
    "                ],style=dict(width='50%')),\n",
    "            html.Div([\n",
    "                html.Label(['Select Plot Data:'], style={'font-weight': 'bold', \"text-align\": \"right\",\"offset\":1}),\n",
    "                ],style=dict(width='50%')),\n",
    "        ],style=dict(display='flex',justifyContent='center')),\n",
    "    \n",
    "    #Dropdown Block - Dropdowns in line\n",
    "    html.Div(children=[\n",
    "        #Country Dropdown\n",
    "        #html.Label('Select Countries',),\n",
    "        dcc.Dropdown(countrylist, id='country_drop_down', \n",
    "                     style=dict(width='80%'),\n",
    "                     value=['Germany'],\n",
    "                     multi=True),\n",
    "        html.Div(id='selected_country'),\n",
    "    \n",
    "        #Graph Selection Dropdown\n",
    "        \n",
    "        dcc.Dropdown(\n",
    "            id='statistic',\n",
    "            style=dict(width='80%'),\n",
    "            options=[\n",
    "                {'label':'Cases per Capita', 'value':'cases_per_pop'},\n",
    "                {'label':'Vaccinations per Capita', 'value':'vaxd_per_pop'},\n",
    "                {'label':'New Cases Per Capita','value':'new_per_pop'},\n",
    "                {'label':'Reproduction Value (R)', 'value':'reproduction_rate'},\n",
    "                {'label':'Deaths per Capita','value':'death_per_pop'} \n",
    "            ],\n",
    "            value = ['cases_per_pop']\n",
    "        ),\n",
    "        \n",
    "    ],style=dict(display='flex')),\n",
    "   #Figure Block\n",
    "    html.Div(children=[\n",
    "        #Figure\n",
    "        dcc.Graph(id='selected_plot', style={'height': '80vh'}) #Height 80% of view works well in Chrome\n",
    "    ])\n",
    "    \n",
    "])"
   ]
  },
  {
   "cell_type": "markdown",
   "metadata": {},
   "source": [
    "## Dashboard Functions"
   ]
  },
  {
   "cell_type": "code",
   "execution_count": 6,
   "metadata": {},
   "outputs": [],
   "source": [
    "#Dashboard Callback\n",
    "from dash.dependencies import Input, Output\n",
    "\n",
    "@app.callback(\n",
    "    Output(component_id='selected_plot',component_property='figure'),\n",
    "    Input(component_id='country_drop_down',component_property='value'),\n",
    "    Input(component_id='statistic',component_property='value'),\n",
    "    prevent_initial_call=True\n",
    ")\n",
    "     \n",
    "def update_graph(country_drop_down,statistic):\n",
    "    data_comb=pd.DataFrame()\n",
    "    \n",
    "    #Edit data to have each country's data in the dataframe for plotting\n",
    "    for x in country_drop_down: \n",
    "\n",
    "        data_x = data[data['location']==x]\n",
    "        data_x = data_x.reset_index(drop=True)\n",
    "        \n",
    "        data_comb=pd.concat([data_comb,data_x])\n",
    "    \n",
    "    #Make plot of data depending on the user selection\n",
    "    if statistic== 'cases_per_pop':\n",
    "        fig=px.line(data_comb,x=\"date\",y=\"cases_per_pop\", color='location', title= 'COVID-19 Cases by Population', \n",
    "            labels={\"date\":\"Date\",\"cases_per_pop\":\"Cases per Capita\",\"location\":\"Country Name\"})\n",
    "    elif statistic=='vaxd_per_pop':\n",
    "        fig=px.line(data_comb,x=\"date\",y=\"vaxd_per_pop\", color='location', title= 'COVID-19 Vaccinations by Population', \n",
    "            labels={\"date\":\"Date\",\"vaxd_per_pop\":\"Full Vaccinations per Capita\",\"location\":\"Country Name\"})\n",
    "    elif statistic=='new_per_pop':\n",
    "        fig=px.line(data_comb,x=\"date\",y=\"new_per_pop\", color='location', title= 'New COVID-19 Infections by Population', \n",
    "            labels={\"date\":\"Date\",\"new_per_pop\":\"New Infections per Capita\",\"location\":\"Country Name\"})\n",
    "    elif statistic=='reproduction_rate':\n",
    "        fig=px.line(data_comb,x=\"date\",y=\"reproduction_rate\", color='location', title= 'COVID-19 Reproduction Value (R)', \n",
    "            labels={\"date\":\"Date\",\"reproduction_rate\":\"Reproduction Value\",\"location\":\"Country Name\"})\n",
    "    elif statistic=='death_per_pop':\n",
    "        fig=px.line(data_comb,x=\"date\",y=\"death_per_pop\", color='location', title= 'COVID-19 Deaths by Population', \n",
    "            labels={\"date\":\"Date\",\"death_per_pop\":\"COVID-19 Deaths per Capita\",\"location\":\"Country Name\"})\n",
    "    \n",
    "    #Edit Figure Formatting\n",
    "    fig.update_layout(xaxis_rangeslider_visible=True) #allow date range to be varied\n",
    "    fig.update_yaxes(automargin=True)\n",
    "    fig.update_xaxes(nticks=20,rangeslider_thickness=0.05,rangeslider_bgcolor=\"green\")\n",
    "    fig.update_layout(title_x=0.5 , title_font_color=\"red\")\n",
    "    \n",
    "    return fig\n",
    "            "
   ]
  },
  {
   "cell_type": "markdown",
   "metadata": {},
   "source": [
    "## Launch App"
   ]
  },
  {
   "cell_type": "code",
   "execution_count": null,
   "metadata": {},
   "outputs": [
    {
     "name": "stdout",
     "output_type": "stream",
     "text": [
      "Dash is running on http://127.0.0.1:8050/\n",
      "\n",
      " * Serving Flask app \"__main__\" (lazy loading)\n",
      " * Environment: production\n",
      "   WARNING: This is a development server. Do not use it in a production deployment.\n",
      "   Use a production WSGI server instead.\n",
      " * Debug mode: on\n"
     ]
    }
   ],
   "source": [
    "app.run_server(debug=True,use_reloader=False)"
   ]
  },
  {
   "cell_type": "code",
   "execution_count": null,
   "metadata": {},
   "outputs": [],
   "source": []
  }
 ],
 "metadata": {
  "kernelspec": {
   "display_name": "Python 3",
   "language": "python",
   "name": "python3"
  },
  "language_info": {
   "codemirror_mode": {
    "name": "ipython",
    "version": 3
   },
   "file_extension": ".py",
   "mimetype": "text/x-python",
   "name": "python",
   "nbconvert_exporter": "python",
   "pygments_lexer": "ipython3",
   "version": "3.7.4"
  }
 },
 "nbformat": 4,
 "nbformat_minor": 2
}
